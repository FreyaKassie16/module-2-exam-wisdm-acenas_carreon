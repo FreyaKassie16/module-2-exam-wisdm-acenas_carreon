{
 "cells": [
  {
   "cell_type": "code",
   "execution_count": 66,
   "metadata": {},
   "outputs": [],
   "source": [
    "import numpy as np\n",
    "import pandas as pd\n",
    "import glob\n",
    "import tensorflow as tf\n",
    "from sklearn.model_selection import train_test_split\n",
    "from sklearn.preprocessing import MinMaxScaler\n",
    "from sklearn.preprocessing import OneHotEncoder\n",
    "import keras_tuner as kt"
   ]
  },
  {
   "cell_type": "markdown",
   "metadata": {},
   "source": [
    "<h1>Preprocessing</h1>"
   ]
  },
  {
   "cell_type": "code",
   "execution_count": 57,
   "metadata": {},
   "outputs": [],
   "source": [
    "names = ['subject-id', 'activity-code', 'timestamp_phone_accel', 'x_phone_accel', 'y_phone_accel', 'z_phone_accel']\n",
    "\n",
    "path = r'wisdm-dataset/raw/phone/accel' # use your path\n",
    "all_files = glob.glob(path + \"/*.txt\")\n",
    "\n",
    "li = []\n",
    "\n",
    "for filename in all_files:\n",
    "    df = pd.read_csv(filename, names=names)\n",
    "    li.append(df)\n",
    "\n",
    "frame_phone_accel = pd.concat(li, axis=0, ignore_index=True)\n",
    "\n",
    "frame_phone_accel['z_phone_accel'] = frame_phone_accel['z_phone_accel'].str.rstrip(';').astype('float64')"
   ]
  },
  {
   "cell_type": "code",
   "execution_count": 52,
   "metadata": {},
   "outputs": [],
   "source": [
    "names = ['subject-id', 'activity-code', 'timestamp_phone_gyro', 'x_phone_gyro', 'y_phone_gyro', 'z_phone_gyro']\n",
    "\n",
    "path = r'wisdm-dataset/raw/phone/gyro' # use your path\n",
    "all_files = glob.glob(path + \"/*.txt\")\n",
    "\n",
    "li = []\n",
    "\n",
    "for filename in all_files:\n",
    "    df = pd.read_csv(filename, names=names)\n",
    "    li.append(df)\n",
    "\n",
    "frame_phone_gyro = pd.concat(li, axis=0, ignore_index=True).drop(['subject-id'], axis=1)\n",
    "frame_phone_gyro['z_phone_gyro'] = frame_phone_gyro['z_phone_gyro'].str.rstrip(';').astype(float)"
   ]
  },
  {
   "cell_type": "code",
   "execution_count": 53,
   "metadata": {},
   "outputs": [],
   "source": [
    "names = ['subject-id', 'activity-code', 'timestamp_watch_accel', 'x_watch_accel', 'y_watch_accel', 'z_watch_accel']\n",
    "\n",
    "path = r'wisdm-dataset/raw/watch/accel' # use your path\n",
    "all_files = glob.glob(path + \"/*.txt\")\n",
    "\n",
    "li = []\n",
    "\n",
    "for filename in all_files:\n",
    "    df = pd.read_csv(filename, names=names)\n",
    "    li.append(df)\n",
    "\n",
    "frame_watch_accel = pd.concat(li, axis=0, ignore_index=True).drop(['subject-id'], axis=1)\n",
    "frame_watch_accel['z_watch_accel'] = frame_watch_accel['z_watch_accel'].str.rstrip(';').astype(float)"
   ]
  },
  {
   "cell_type": "code",
   "execution_count": 54,
   "metadata": {},
   "outputs": [],
   "source": [
    "names = ['subject-id', 'activity-code', 'timestamp_watch_gyro', 'x_watch_gyro', 'y_watch_gyro', 'z_watch_gyro']\n",
    "\n",
    "path = r'wisdm-dataset/raw/watch/gyro' # use your path\n",
    "all_files = glob.glob(path + \"/*.txt\")\n",
    "\n",
    "li = []\n",
    "\n",
    "for filename in all_files:\n",
    "    df = pd.read_csv(filename, names=names)\n",
    "    li.append(df)\n",
    "\n",
    "frame_watch_gyro = pd.concat(li, axis=0, ignore_index=True).drop(['subject-id'], axis=1)\n",
    "frame_watch_gyro['z_watch_gyro'] = frame_watch_gyro['z_watch_gyro'].str.rstrip(';').astype(float)"
   ]
  },
  {
   "cell_type": "code",
   "execution_count": 38,
   "metadata": {},
   "outputs": [],
   "source": [
    "X_train_full_phone_accel, X_test_phone_accel, y_train_full_phone_accel, y_test_phone_accel = train_test_split(frame_phone_accel[['timestamp_phone_accel', 'x_phone_accel', 'y_phone_accel', 'z_phone_accel']], frame_phone_accel[['activity-code']], test_size=0.1, random_state=150, stratify=frame_phone_accel['activity-code'])\n",
    "X_train_phone_accel, X_valid_phone_accel, y_train_phone_accel, y_valid_phone_accel = train_test_split(X_train_full_phone_accel, y_train_full_phone_accel, test_size=X_test_phone_accel.shape[0], random_state=150)\n",
    "\n",
    "X_train_full_phone_gyro, X_test_phone_gyro, y_train_full_phone_gyro, y_test_phone_gyro = train_test_split(frame_phone_gyro[['timestamp_phone_gyro', 'x_phone_gyro', 'y_phone_gyro', 'z_phone_gyro']], frame_phone_gyro[['activity-code']], test_size=0.1, random_state=150, stratify=frame_phone_gyro['activity-code'])\n",
    "X_train_phone_gyro, X_valid_phone_gyro, y_train_phone_gyro, y_valid_phone_gyro = train_test_split(X_train_full_phone_gyro, y_train_full_phone_gyro, test_size=X_test_phone_gyro.shape[0], random_state=150)\n",
    "\n",
    "X_train_full_watch_accel, X_test_watch_accel, y_train_full_watch_accel, y_test_watch_accel = train_test_split(frame_watch_accel[['timestamp_watch_accel', 'x_watch_accel', 'y_watch_accel', 'z_watch_accel']], frame_watch_accel[['activity-code']], test_size=0.1, random_state=150, stratify=frame_watch_accel['activity-code'])\n",
    "X_train_watch_accel, X_valid_watch_accel, y_train_watch_accel, y_valid_watch_accel = train_test_split(X_train_full_watch_accel, y_train_full_watch_accel, test_size=X_test_watch_accel.shape[0], random_state=150)\n",
    "\n",
    "X_train_full_watch_gyro, X_test_watch_gyro, y_train_full_watch_gyro, y_test_watch_gyro = train_test_split(frame_watch_gyro[['timestamp_watch_gyro', 'x_watch_gyro', 'y_watch_gyro', 'z_watch_gyro']], frame_watch_gyro[['activity-code']], test_size=0.1, random_state=150, stratify=frame_watch_gyro['activity-code'])\n",
    "X_train_watch_gyro, X_valid_watch_gyro, y_train_watch_gyro, y_valid_watch_gyro = train_test_split(X_train_full_watch_gyro, y_train_full_watch_gyro, test_size=X_test_watch_gyro.shape[0], random_state=150)"
   ]
  },
  {
   "cell_type": "markdown",
   "metadata": {},
   "source": [
    "<h3>Feature scaling and encoding</h3>"
   ]
  },
  {
   "cell_type": "code",
   "execution_count": 17,
   "metadata": {},
   "outputs": [],
   "source": [
    "scaler = MinMaxScaler().set_output(transform='pandas')\n",
    "scaled_X_train_phone_accel = scaler.fit_transform(X_train_phone_accel) \n",
    "scaled_X_valid_phone_accel = scaler.transform(X_valid_phone_accel)\n",
    "scaled_X_test_phone_accel = scaler.transform(X_test_phone_accel)"
   ]
  },
  {
   "cell_type": "code",
   "execution_count": 18,
   "metadata": {},
   "outputs": [
    {
     "name": "stderr",
     "output_type": "stream",
     "text": [
      "c:\\Users\\Shaun\\miniconda3\\envs\\WISDM\\Lib\\site-packages\\sklearn\\preprocessing\\_encoders.py:975: FutureWarning: `sparse` was renamed to `sparse_output` in version 1.2 and will be removed in 1.4. `sparse_output` is ignored unless you leave `sparse` to its default value.\n",
      "  warnings.warn(\n"
     ]
    }
   ],
   "source": [
    "encoder = OneHotEncoder(sparse=False).set_output(transform='pandas')\n",
    "y_train_phone_accel_cat = encoder.fit_transform(y_train_phone_accel)\n",
    "y_valid_phone_accel_cat = encoder.transform(y_valid_phone_accel)\n",
    "y_test_phone_accel_cat = encoder.transform(y_test_phone_accel)"
   ]
  },
  {
   "cell_type": "markdown",
   "metadata": {},
   "source": [
    "<h1>Hyperparameter Tuning</h1>"
   ]
  },
  {
   "cell_type": "code",
   "execution_count": 10,
   "metadata": {},
   "outputs": [],
   "source": [
    "def build_model(hp):\n",
    "    n_hidden = hp.Int(\"n_hidden\", min_value=1, max_value=5)\n",
    "    n_neurons = hp.Int(\"n_neurons\", min_value=10, max_value=100)\n",
    "    learning_rate = hp.Float(\"learning_rate\", min_value=1e-6, max_value=10, sampling=\"log\")\n",
    "    optimizer = hp.Choice(\"optimizer\", values=[\"sgd\", \"rmsprop\", \"adam\", \"adamax\", \"nadam\", \"adamw\"])\n",
    "\n",
    "    if optimizer == \"sgd\":\n",
    "        momentum = hp.Float('momentum', min_value=0, max_value=1)\n",
    "        nesterov = hp.Boolean('nesterov')\n",
    "        optimizer = tf.keras.optimizers.SGD(learning_rate=learning_rate, momentum=momentum, nesterov=nesterov)\n",
    "\n",
    "    elif optimizer == \"rmsprop\":\n",
    "        optimizer = tf.keras.optimizers.RMSprop(learning_rate=learning_rate)\n",
    "\n",
    "    elif optimizer == \"adam\":\n",
    "        optimizer = tf.keras.optimizers.Adam(learning_rate=learning_rate)\n",
    "\n",
    "    elif optimizer == \"adamax\":\n",
    "        optimizer = tf.keras.optimizers.Adamax(learning_rate=learning_rate)\n",
    "\n",
    "    elif optimizer == \"nadam\":\n",
    "        optimizer = tf.keras.optimizers.Nadam(learning_rate=learning_rate)\n",
    "\n",
    "    else:\n",
    "        optimizer = tf.keras.optimizers.AdamW(learning_rate=learning_rate)\n",
    "\n",
    "\n",
    "    phone_accel_inp = tf.keras.Input(shape=(4,))\n",
    "    phone_gyro_inp = tf.keras.Input(shape=(4,))\n",
    "    watch_accel_inp = tf.keras.Input(shape=(4,))\n",
    "    watch_gyro_inp = tf.keras.Input(shape=(4,))\n",
    "\n",
    "    # Create dictionary to store hidden layers per input\n",
    "    phone_accel_hidden_layer_dict = {}\n",
    "    phone_gyro_hidden_layer_dict = {}\n",
    "    watch_accel_hidden_layer_dict = {}\n",
    "    watch_gyro_hidden_layer_dict = {}\n",
    "\n",
    "    phone_accel_hidden_layer_dict['hidden1'] = tf.keras.layers.Dense(n_neurons, activation='relu')(phone_accel_inp)\n",
    "    phone_gyro_hidden_layer_dict['hidden1'] = tf.keras.layers.Dense(n_neurons, activation='relu')(phone_gyro_inp)\n",
    "    watch_accel_hidden_layer_dict['hidden1'] = tf.keras.layers.Dense(n_neurons, activation='relu')(watch_accel_inp)\n",
    "    watch_gyro_hidden_layer_dict['hidden1'] = tf.keras.layers.Dense(n_neurons, activation='relu')(watch_gyro_inp)\n",
    "\n",
    "    # Adds remaining n - 1 hidden layers\n",
    "    for i in range(2, n_hidden + 1):\n",
    "        phone_accel_hidden_layer_dict['hidden'+str(i)] = tf.keras.layers.Dense(n_neurons, activation='relu')(phone_accel_hidden_layer_dict['hidden'+str(i-1)])\n",
    "        phone_gyro_hidden_layer_dict['hidden'+str(i)] = tf.keras.layers.Dense(n_neurons, activation='relu')(phone_gyro_hidden_layer_dict['hidden'+str(i-1)])\n",
    "        watch_accel_hidden_layer_dict['hidden'+str(i)] = tf.keras.layers.Dense(n_neurons, activation='relu')(watch_accel_hidden_layer_dict['hidden'+str(i-1)])\n",
    "        watch_gyro_hidden_layer_dict['hidden'+str(i)] = tf.keras.layers.Dense(n_neurons, activation='relu')(watch_gyro_hidden_layer_dict['hidden'+str(i-1)])\n",
    "    \n",
    "    # Concatenates outputs of last hidden layers per input\n",
    "    concat = tf.keras.layers.Concatenate()([phone_accel_hidden_layer_dict['hidden'+str(n_hidden)],\n",
    "                                            phone_gyro_hidden_layer_dict['hidden'+str(n_hidden)],\n",
    "                                            watch_accel_hidden_layer_dict['hidden'+str(n_hidden)],\n",
    "                                            watch_gyro_hidden_layer_dict['hidden'+str(n_hidden)]])\n",
    "\n",
    "    out = tf.keras.layers.Dense(18, activation='softmax', name='Activity')(concat)\n",
    "\n",
    "    model = tf.keras.Model([phone_accel_inp, phone_gyro_inp, watch_accel_inp, watch_gyro_inp], out)\n",
    "    model.compile(optimizer=optimizer, loss='sparse_categorical_crossentropy', metrics=['accuracy'])\n",
    "    \n",
    "    return model"
   ]
  },
  {
   "cell_type": "code",
   "execution_count": 11,
   "metadata": {},
   "outputs": [],
   "source": [
    "# To be able to tune parameters in the .fit() model\n",
    "class MyHyperModel(kt.HyperModel):\n",
    "    def build(self, hp):\n",
    "        return build_model(hp)\n",
    "    \n",
    "    def fit(self, hp, model, X, y, **kwargs):\n",
    "        batch_size = hp.Int('batch_size', min_value=2, max_value=32)\n",
    "        return model.fit(X, y, batch_size=batch_size, **kwargs)\n"
   ]
  },
  {
   "cell_type": "code",
   "execution_count": 15,
   "metadata": {},
   "outputs": [],
   "source": [
    "bayesian_opt_tuner = kt.BayesianOptimization(MyHyperModel(), objective='val_loss', seed=150, max_trials=100, overwrite=True, directory='wisdm', project_name='my_bayesian_search')\n",
    "early_stopping_cb = tf.keras.callbacks.EarlyStopping(monitor='val_accuracy', patience=10)"
   ]
  },
  {
   "cell_type": "code",
   "execution_count": 19,
   "metadata": {},
   "outputs": [
    {
     "data": {
      "text/plain": [
       "[]"
      ]
     },
     "execution_count": 19,
     "metadata": {},
     "output_type": "execute_result"
    }
   ],
   "source": [
    "bayesian_opt_tuner.get_best_hyperparameters(num_trials=0)"
   ]
  },
  {
   "cell_type": "code",
   "execution_count": 16,
   "metadata": {},
   "outputs": [
    {
     "ename": "NameError",
     "evalue": "name 'scaled_X_train_phone_accel' is not defined",
     "output_type": "error",
     "traceback": [
      "\u001b[1;31m---------------------------------------------------------------------------\u001b[0m",
      "\u001b[1;31mNameError\u001b[0m                                 Traceback (most recent call last)",
      "Cell \u001b[1;32mIn[16], line 1\u001b[0m\n\u001b[1;32m----> 1\u001b[0m bayesian_opt_tuner\u001b[38;5;241m.\u001b[39msearch(scaled_X_train_phone_accel\u001b[38;5;241m.\u001b[39mhead(\u001b[38;5;241m1000\u001b[39m), y_train_phone_accel_cat\u001b[38;5;241m.\u001b[39mhead(\u001b[38;5;241m1000\u001b[39m), validation_data\u001b[38;5;241m=\u001b[39m(scaled_X_valid_phone_accel\u001b[38;5;241m.\u001b[39mhead(\u001b[38;5;241m1000\u001b[39m), y_valid_phone_accel_cat\u001b[38;5;241m.\u001b[39mhead(\u001b[38;5;241m1000\u001b[39m)), epochs\u001b[38;5;241m=\u001b[39m\u001b[38;5;241m500\u001b[39m, callbacks\u001b[38;5;241m=\u001b[39m[early_stopping_cb])\n",
      "\u001b[1;31mNameError\u001b[0m: name 'scaled_X_train_phone_accel' is not defined"
     ]
    }
   ],
   "source": [
    "bayesian_opt_tuner.search(scaled_X_train_phone_accel.head(1000), y_train_phone_accel_cat.head(1000), validation_data=(scaled_X_valid_phone_accel.head(1000), y_valid_phone_accel_cat.head(1000)), epochs=500, callbacks=[early_stopping_cb])"
   ]
  }
 ],
 "metadata": {
  "kernelspec": {
   "display_name": "WISDM",
   "language": "python",
   "name": "python3"
  },
  "language_info": {
   "codemirror_mode": {
    "name": "ipython",
    "version": 3
   },
   "file_extension": ".py",
   "mimetype": "text/x-python",
   "name": "python",
   "nbconvert_exporter": "python",
   "pygments_lexer": "ipython3",
   "version": "3.12.2"
  }
 },
 "nbformat": 4,
 "nbformat_minor": 2
}
